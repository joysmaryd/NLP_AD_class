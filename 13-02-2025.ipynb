{
 "cells": [
  {
   "cell_type": "code",
   "execution_count": 1,
   "id": "c9d76a5c-c90c-4b1e-9f6e-9037bc6678ab",
   "metadata": {},
   "outputs": [],
   "source": [
    "import pandas as pd\n",
    "\n",
    "import numpy as np\n",
    "\n",
    "import matplotlib.pyplot as plt\n",
    "\n",
    "import seaborn as sns"
   ]
  },
  {
   "cell_type": "code",
   "execution_count": 2,
   "id": "92c32385-d195-4839-b13e-c56acd58cc8b",
   "metadata": {},
   "outputs": [
    {
     "data": {
      "text/html": [
       "<div>\n",
       "<style scoped>\n",
       "    .dataframe tbody tr th:only-of-type {\n",
       "        vertical-align: middle;\n",
       "    }\n",
       "\n",
       "    .dataframe tbody tr th {\n",
       "        vertical-align: top;\n",
       "    }\n",
       "\n",
       "    .dataframe thead th {\n",
       "        text-align: right;\n",
       "    }\n",
       "</style>\n",
       "<table border=\"1\" class=\"dataframe\">\n",
       "  <thead>\n",
       "    <tr style=\"text-align: right;\">\n",
       "      <th></th>\n",
       "      <th>id</th>\n",
       "      <th>title</th>\n",
       "      <th>author</th>\n",
       "      <th>text</th>\n",
       "      <th>label</th>\n",
       "    </tr>\n",
       "  </thead>\n",
       "  <tbody>\n",
       "    <tr>\n",
       "      <th>0</th>\n",
       "      <td>0</td>\n",
       "      <td>House Dem Aide: We Didn’t Even See Comey’s Let...</td>\n",
       "      <td>Darrell Lucus</td>\n",
       "      <td>House Dem Aide: We Didn’t Even See Comey’s Let...</td>\n",
       "      <td>1</td>\n",
       "    </tr>\n",
       "    <tr>\n",
       "      <th>1</th>\n",
       "      <td>1</td>\n",
       "      <td>FLYNN: Hillary Clinton, Big Woman on Campus - ...</td>\n",
       "      <td>Daniel J. Flynn</td>\n",
       "      <td>Ever get the feeling your life circles the rou...</td>\n",
       "      <td>0</td>\n",
       "    </tr>\n",
       "    <tr>\n",
       "      <th>2</th>\n",
       "      <td>2</td>\n",
       "      <td>Why the Truth Might Get You Fired</td>\n",
       "      <td>Consortiumnews.com</td>\n",
       "      <td>Why the Truth Might Get You Fired October 29, ...</td>\n",
       "      <td>1</td>\n",
       "    </tr>\n",
       "    <tr>\n",
       "      <th>3</th>\n",
       "      <td>3</td>\n",
       "      <td>15 Civilians Killed In Single US Airstrike Hav...</td>\n",
       "      <td>Jessica Purkiss</td>\n",
       "      <td>Videos 15 Civilians Killed In Single US Airstr...</td>\n",
       "      <td>1</td>\n",
       "    </tr>\n",
       "    <tr>\n",
       "      <th>4</th>\n",
       "      <td>4</td>\n",
       "      <td>Iranian woman jailed for fictional unpublished...</td>\n",
       "      <td>Howard Portnoy</td>\n",
       "      <td>Print \\nAn Iranian woman has been sentenced to...</td>\n",
       "      <td>1</td>\n",
       "    </tr>\n",
       "  </tbody>\n",
       "</table>\n",
       "</div>"
      ],
      "text/plain": [
       "   id                                              title              author  \\\n",
       "0   0  House Dem Aide: We Didn’t Even See Comey’s Let...       Darrell Lucus   \n",
       "1   1  FLYNN: Hillary Clinton, Big Woman on Campus - ...     Daniel J. Flynn   \n",
       "2   2                  Why the Truth Might Get You Fired  Consortiumnews.com   \n",
       "3   3  15 Civilians Killed In Single US Airstrike Hav...     Jessica Purkiss   \n",
       "4   4  Iranian woman jailed for fictional unpublished...      Howard Portnoy   \n",
       "\n",
       "                                                text  label  \n",
       "0  House Dem Aide: We Didn’t Even See Comey’s Let...      1  \n",
       "1  Ever get the feeling your life circles the rou...      0  \n",
       "2  Why the Truth Might Get You Fired October 29, ...      1  \n",
       "3  Videos 15 Civilians Killed In Single US Airstr...      1  \n",
       "4  Print \\nAn Iranian woman has been sentenced to...      1  "
      ]
     },
     "execution_count": 2,
     "metadata": {},
     "output_type": "execute_result"
    }
   ],
   "source": [
    "data = pd.read_csv(\"fake_news.csv\")\n",
    "\n",
    "data.head()"
   ]
  },
  {
   "cell_type": "code",
   "execution_count": 3,
   "id": "0e2351e1-acfd-450e-841f-e6a133545a85",
   "metadata": {},
   "outputs": [
    {
     "data": {
      "text/plain": [
       "(20800, 5)"
      ]
     },
     "execution_count": 3,
     "metadata": {},
     "output_type": "execute_result"
    }
   ],
   "source": [
    "data.shape"
   ]
  },
  {
   "cell_type": "code",
   "execution_count": 4,
   "id": "42cdf748-4d62-4d8b-b825-f494edad432a",
   "metadata": {},
   "outputs": [
    {
     "name": "stdout",
     "output_type": "stream",
     "text": [
      "<class 'pandas.core.frame.DataFrame'>\n",
      "RangeIndex: 20800 entries, 0 to 20799\n",
      "Data columns (total 5 columns):\n",
      " #   Column  Non-Null Count  Dtype \n",
      "---  ------  --------------  ----- \n",
      " 0   id      20800 non-null  int64 \n",
      " 1   title   20242 non-null  object\n",
      " 2   author  18843 non-null  object\n",
      " 3   text    20761 non-null  object\n",
      " 4   label   20800 non-null  int64 \n",
      "dtypes: int64(2), object(3)\n",
      "memory usage: 812.6+ KB\n"
     ]
    }
   ],
   "source": [
    "data.info()"
   ]
  },
  {
   "cell_type": "code",
   "execution_count": 5,
   "id": "cd47c5fd-2a98-4d5f-be95-dd5be17994b6",
   "metadata": {},
   "outputs": [
    {
     "data": {
      "text/plain": [
       "id           0\n",
       "title      558\n",
       "author    1957\n",
       "text        39\n",
       "label        0\n",
       "dtype: int64"
      ]
     },
     "execution_count": 5,
     "metadata": {},
     "output_type": "execute_result"
    }
   ],
   "source": [
    "data.isna().sum()"
   ]
  },
  {
   "cell_type": "code",
   "execution_count": 6,
   "id": "b0197320-98f2-4f21-81d3-a076d5ce4826",
   "metadata": {},
   "outputs": [],
   "source": [
    "data = data.drop(['id'], axis=1)"
   ]
  },
  {
   "cell_type": "code",
   "execution_count": 7,
   "id": "8e3a4330-d4e6-4272-8be0-f4981c0afc14",
   "metadata": {},
   "outputs": [],
   "source": [
    "data['content'] = data['author']+' '+ data['title']+' '+data['text']"
   ]
  },
  {
   "cell_type": "code",
   "execution_count": 8,
   "id": "f80e4ffe-f45c-4232-b58e-9cb25025d6d1",
   "metadata": {},
   "outputs": [],
   "source": [
    "data = data.drop(['title','author', 'text'], axis=1)"
   ]
  },
  {
   "cell_type": "code",
   "execution_count": 9,
   "id": "9e34507d-2beb-4f60-9720-04583e6dd6b1",
   "metadata": {},
   "outputs": [
    {
     "data": {
      "text/html": [
       "<div>\n",
       "<style scoped>\n",
       "    .dataframe tbody tr th:only-of-type {\n",
       "        vertical-align: middle;\n",
       "    }\n",
       "\n",
       "    .dataframe tbody tr th {\n",
       "        vertical-align: top;\n",
       "    }\n",
       "\n",
       "    .dataframe thead th {\n",
       "        text-align: right;\n",
       "    }\n",
       "</style>\n",
       "<table border=\"1\" class=\"dataframe\">\n",
       "  <thead>\n",
       "    <tr style=\"text-align: right;\">\n",
       "      <th></th>\n",
       "      <th>label</th>\n",
       "      <th>content</th>\n",
       "    </tr>\n",
       "  </thead>\n",
       "  <tbody>\n",
       "    <tr>\n",
       "      <th>0</th>\n",
       "      <td>1</td>\n",
       "      <td>Darrell Lucus House Dem Aide: We Didn’t Even S...</td>\n",
       "    </tr>\n",
       "    <tr>\n",
       "      <th>1</th>\n",
       "      <td>0</td>\n",
       "      <td>Daniel J. Flynn FLYNN: Hillary Clinton, Big Wo...</td>\n",
       "    </tr>\n",
       "    <tr>\n",
       "      <th>2</th>\n",
       "      <td>1</td>\n",
       "      <td>Consortiumnews.com Why the Truth Might Get You...</td>\n",
       "    </tr>\n",
       "    <tr>\n",
       "      <th>3</th>\n",
       "      <td>1</td>\n",
       "      <td>Jessica Purkiss 15 Civilians Killed In Single ...</td>\n",
       "    </tr>\n",
       "    <tr>\n",
       "      <th>4</th>\n",
       "      <td>1</td>\n",
       "      <td>Howard Portnoy Iranian woman jailed for fictio...</td>\n",
       "    </tr>\n",
       "  </tbody>\n",
       "</table>\n",
       "</div>"
      ],
      "text/plain": [
       "   label                                            content\n",
       "0      1  Darrell Lucus House Dem Aide: We Didn’t Even S...\n",
       "1      0  Daniel J. Flynn FLYNN: Hillary Clinton, Big Wo...\n",
       "2      1  Consortiumnews.com Why the Truth Might Get You...\n",
       "3      1  Jessica Purkiss 15 Civilians Killed In Single ...\n",
       "4      1  Howard Portnoy Iranian woman jailed for fictio..."
      ]
     },
     "execution_count": 9,
     "metadata": {},
     "output_type": "execute_result"
    }
   ],
   "source": [
    "data.head()"
   ]
  },
  {
   "cell_type": "markdown",
   "id": "f59dba3e-d67f-4127-85fd-83ee346fa8db",
   "metadata": {},
   "source": [
    "### Data Pre-Processing"
   ]
  },
  {
   "cell_type": "code",
   "execution_count": 10,
   "id": "10f54bd0-c9f7-4b0f-a2da-ac9ad2980ef7",
   "metadata": {},
   "outputs": [],
   "source": [
    "# fill missing values with empty string\n",
    "data = data.fillna('')"
   ]
  },
  {
   "cell_type": "code",
   "execution_count": 11,
   "id": "86b10a95-f8b2-4fc2-80c1-b2eef25d79d3",
   "metadata": {},
   "outputs": [],
   "source": [
    "# Convert to lowercase\n",
    "data['content'] = data['content'].apply(lambda x: \" \".join(x.lower() for x in x.split()))"
   ]
  },
  {
   "cell_type": "code",
   "execution_count": 12,
   "id": "c47f9d82-a167-4e77-a15b-c4da45c900d7",
   "metadata": {},
   "outputs": [
    {
     "name": "stderr",
     "output_type": "stream",
     "text": [
      "<>:2: SyntaxWarning: invalid escape sequence '\\w'\n",
      "<>:2: SyntaxWarning: invalid escape sequence '\\w'\n",
      "C:\\Users\\joysm\\AppData\\Local\\Temp\\ipykernel_23504\\2395591190.py:2: SyntaxWarning: invalid escape sequence '\\w'\n",
      "  data['content'] = data['content'].str.replace('[^\\w\\s]','')\n"
     ]
    }
   ],
   "source": [
    "# Remove punctuation\n",
    "data['content'] = data['content'].str.replace('[^\\w\\s]','')"
   ]
  },
  {
   "cell_type": "code",
   "execution_count": 13,
   "id": "9bb861ed-f274-4297-a99e-886e03e82a80",
   "metadata": {},
   "outputs": [
    {
     "name": "stderr",
     "output_type": "stream",
     "text": [
      "[nltk_data] Downloading package stopwords to\n",
      "[nltk_data]     C:\\Users\\joysm\\AppData\\Roaming\\nltk_data...\n",
      "[nltk_data]   Package stopwords is already up-to-date!\n"
     ]
    },
    {
     "data": {
      "text/plain": [
       "True"
      ]
     },
     "execution_count": 13,
     "metadata": {},
     "output_type": "execute_result"
    }
   ],
   "source": [
    "# Remove stop words\n",
    "\n",
    "import nltk\n",
    "\n",
    "nltk.download('stopwords')"
   ]
  },
  {
   "cell_type": "code",
   "execution_count": 14,
   "id": "6cb37173-0cb1-433c-800e-47c5bfb3269b",
   "metadata": {},
   "outputs": [],
   "source": [
    "from nltk.corpus import stopwords\n",
    "\n",
    "stop = stopwords.words('english')\n",
    "\n",
    "data['content'] = data['content'].apply(lambda x: \" \".join(x for x in x.split() if x not in stop))"
   ]
  },
  {
   "cell_type": "code",
   "execution_count": 15,
   "id": "c6b4596a-6390-4243-8d78-e1b3adb241fc",
   "metadata": {},
   "outputs": [
    {
     "data": {
      "text/plain": [
       "0    darrell lucus house dem aide: didn’t even see ...\n",
       "1    daniel j. flynn flynn: hillary clinton, big wo...\n",
       "2    consortiumnews.com truth might get fired truth...\n",
       "3    jessica purkiss 15 civilian killed single u ai...\n",
       "4    howard portnoy iranian woman jailed fictional ...\n",
       "Name: content, dtype: object"
      ]
     },
     "execution_count": 15,
     "metadata": {},
     "output_type": "execute_result"
    }
   ],
   "source": [
    "# Do lemmatization\n",
    "\n",
    "from nltk.stem import WordNetLemmatizer\n",
    "\n",
    "from textblob import Word\n",
    "\n",
    "data['content'] = data['content'].apply(lambda x: \" \".join([Word(word).lemmatize() for word in x.split()]))\n",
    "\n",
    "data['content'].head()"
   ]
  },
  {
   "cell_type": "code",
   "execution_count": 16,
   "id": "f6617a14-ca45-4e56-a7d0-9a21956da8e4",
   "metadata": {},
   "outputs": [],
   "source": [
    "#separating the data and label\n",
    "\n",
    "X = data[['content']]\n",
    "\n",
    "y = data['label']"
   ]
  },
  {
   "cell_type": "code",
   "execution_count": 17,
   "id": "bc8f5d72-c981-4096-932a-cffb0f45019a",
   "metadata": {},
   "outputs": [],
   "source": [
    "from sklearn.model_selection import train_test_split"
   ]
  },
  {
   "cell_type": "code",
   "execution_count": 18,
   "id": "d7430c55-1cf1-4616-840d-c385604ed3a9",
   "metadata": {},
   "outputs": [],
   "source": [
    "# splitting into training and testing data\n",
    "\n",
    "X_train,X_test,y_train,y_test=train_test_split(X,y,test_size=0.3, random_state=45, stratify=y)"
   ]
  },
  {
   "cell_type": "code",
   "execution_count": 19,
   "id": "4bdcd885-195f-4f66-a55d-b676a85c217a",
   "metadata": {},
   "outputs": [
    {
     "name": "stdout",
     "output_type": "stream",
     "text": [
      "(14560, 1)\n",
      "(14560,)\n",
      "(6240, 1)\n",
      "(6240,)\n"
     ]
    }
   ],
   "source": [
    "#validate the shape of train and test dataset\n",
    "\n",
    "print (X_train.shape)\n",
    "\n",
    "print (y_train.shape)\n",
    "\n",
    "print (X_test.shape)\n",
    "\n",
    "print (y_test.shape)"
   ]
  },
  {
   "cell_type": "code",
   "execution_count": 20,
   "id": "62a5060d-5d35-48ee-b965-12157184d48b",
   "metadata": {},
   "outputs": [],
   "source": [
    "from sklearn.feature_extraction.text import TfidfVectorizer"
   ]
  },
  {
   "cell_type": "code",
   "execution_count": 21,
   "id": "c43d8d48-fdd8-4ddb-ab07-1336eccfc78b",
   "metadata": {},
   "outputs": [],
   "source": [
    "tfidf_vect = TfidfVectorizer(analyzer='word', token_pattern=r'\\w{1,}', max_features=5000)\n",
    "\n",
    "tfidf_vect.fit(data['content'])\n",
    "\n",
    "xtrain_tfidf = tfidf_vect.transform(X_train['content'])\n",
    "\n",
    "xtest_tfidf = tfidf_vect.transform(X_test['content'])"
   ]
  },
  {
   "cell_type": "markdown",
   "id": "9d85a38d-3743-4bd6-8d00-3a26d04efb86",
   "metadata": {},
   "source": [
    "### Model Building"
   ]
  },
  {
   "cell_type": "code",
   "execution_count": 22,
   "id": "5e7a7158-2287-4667-8b28-5053ec046882",
   "metadata": {},
   "outputs": [
    {
     "name": "stdout",
     "output_type": "stream",
     "text": [
      "              precision    recall  f1-score   support\n",
      "\n",
      "           0       0.96      0.97      0.96      3116\n",
      "           1       0.97      0.96      0.96      3124\n",
      "\n",
      "    accuracy                           0.96      6240\n",
      "   macro avg       0.96      0.96      0.96      6240\n",
      "weighted avg       0.96      0.96      0.96      6240\n",
      "\n"
     ]
    }
   ],
   "source": [
    "from sklearn.linear_model import PassiveAggressiveClassifier\n",
    "\n",
    "from sklearn import metrics\n",
    "\n",
    "pclf = PassiveAggressiveClassifier()\n",
    "\n",
    "pclf.fit(xtrain_tfidf, y_train)\n",
    "\n",
    "predictions = pclf.predict(xtest_tfidf)\n",
    "\n",
    "print(metrics.classification_report(y_test, predictions))"
   ]
  },
  {
   "cell_type": "code",
   "execution_count": 23,
   "id": "c3c65f7b-dbb9-4d23-ade1-817df67d40f4",
   "metadata": {},
   "outputs": [],
   "source": [
    "from sklearn.feature_extraction.text import TfidfVectorizer"
   ]
  },
  {
   "cell_type": "code",
   "execution_count": 24,
   "id": "d07d6b05-16fc-443b-8fd9-ba78c25ae6b0",
   "metadata": {},
   "outputs": [],
   "source": [
    "tfidf_vect = TfidfVectorizer(analyzer='word', token_pattern=r'\\w{1,}', max_features=5000)\n",
    "\n",
    "tfidf_vect.fit(data['content'])\n",
    "\n",
    "xtrain_tfidf = tfidf_vect.transform(X_train['content'])\n",
    "\n",
    "xtest_tfidf = tfidf_vect.transform(X_test['content'])"
   ]
  },
  {
   "cell_type": "code",
   "execution_count": 25,
   "id": "07c8fbc9-b227-4239-9f0f-0faaf3af6256",
   "metadata": {},
   "outputs": [],
   "source": [
    "from sklearn.model_selection import train_test_split"
   ]
  },
  {
   "cell_type": "code",
   "execution_count": 26,
   "id": "2a1f94db-1bbc-4f20-9b0f-627060b6ac7b",
   "metadata": {},
   "outputs": [],
   "source": [
    "# splitting into training and testing data\n",
    "\n",
    "X_train,X_test,y_train,y_test=train_test_split(X,y,test_size=0.3, random_state=45, stratify=y)\n"
   ]
  },
  {
   "cell_type": "code",
   "execution_count": 27,
   "id": "f75a4a83-8469-4785-ba80-d2aeb8c1ebf3",
   "metadata": {},
   "outputs": [
    {
     "name": "stdout",
     "output_type": "stream",
     "text": [
      "[[3016  100]\n",
      " [ 120 3004]]\n"
     ]
    }
   ],
   "source": [
    "print(metrics.confusion_matrix(y_test,predictions))"
   ]
  },
  {
   "cell_type": "markdown",
   "id": "35ba316a-dfb1-47e5-8db3-e9ec4d381f3c",
   "metadata": {},
   "source": [
    "### 2. MLP Classifier"
   ]
  },
  {
   "cell_type": "code",
   "execution_count": 28,
   "id": "89cb914a-c283-4ce3-b38d-fbdbbabff826",
   "metadata": {},
   "outputs": [
    {
     "name": "stdout",
     "output_type": "stream",
     "text": [
      "              precision    recall  f1-score   support\n",
      "\n",
      "           0       0.96      0.97      0.96      3116\n",
      "           1       0.97      0.96      0.96      3124\n",
      "\n",
      "    accuracy                           0.96      6240\n",
      "   macro avg       0.96      0.96      0.96      6240\n",
      "weighted avg       0.96      0.96      0.96      6240\n",
      "\n"
     ]
    }
   ],
   "source": [
    "from sklearn.neural_network import MLPClassifier\n",
    "\n",
    "mlpclf = MLPClassifier(hidden_layer_sizes=(256,64,16),\n",
    "\n",
    "                       activation = 'relu', \n",
    "\n",
    "                       solver = 'adam')\n",
    "\n",
    "mlpclf.fit(xtrain_tfidf, y_train)\n",
    "\n",
    "predictions = mlpclf.predict(xtest_tfidf)\n",
    "\n",
    "print(metrics.classification_report(y_test, predictions))"
   ]
  },
  {
   "cell_type": "code",
   "execution_count": 29,
   "id": "5512dda9-a819-4009-aecd-7f6e1b99c581",
   "metadata": {},
   "outputs": [
    {
     "name": "stdout",
     "output_type": "stream",
     "text": [
      "[[3024   92]\n",
      " [ 129 2995]]\n"
     ]
    }
   ],
   "source": [
    "print(metrics.confusion_matrix(y_test,predictions))"
   ]
  },
  {
   "cell_type": "code",
   "execution_count": 30,
   "id": "c3362a3f-1d02-4417-afc9-e29287b2fe34",
   "metadata": {},
   "outputs": [],
   "source": [
    "import pickle\n",
    "\n",
    "# Save trained model to file\n",
    "\n",
    "pickle.dump(mlpclf, open(\"fakenews1.pkl\", \"wb\"))"
   ]
  },
  {
   "cell_type": "code",
   "execution_count": 32,
   "id": "f92e8a68-cb1b-4a99-840d-6143a2b9be00",
   "metadata": {},
   "outputs": [
    {
     "data": {
      "image/png": "[encoded data removed]",
      "text/plain": [
       "<Figure size 640x480 with 1 Axes>"
      ]
     },
     "metadata": {},
     "output_type": "display_data"
    }
   ],
   "source": [
    "# numpyMatplot.py\n",
    "import numpy as np\n",
    "import matplotlib.pyplot as plt\n",
    "# np.linspace: devide line from 0 to 4*pi into 100 equidistant points\n",
    "x = np.linspace(0, 4*np.pi, 100)\n",
    "sinx = np.sin(x) # find sin(x) for above 100 points\n",
    "plt.plot(x,sinx) # plot (x, sin(x))\n",
    "plt.xlabel(\"Time\") # label for x axis\n",
    "plt.ylabel(\"Amplitude\") # label for y axis\n",
    "plt.title('Sine wave') # title\n",
    "plt.xlim([0, 4*np.pi]) # x-axis display range\n",
    "plt.ylim([-1.5, 1.5]) # y-axis display range\n",
    "plt.show() # to show the plot on the screen\n"
   ]
  },
  {
   "cell_type": "code",
   "execution_count": null,
   "id": "29c05122-5cb6-44fa-8528-0bf784f8aef0",
   "metadata": {},
   "outputs": [],
   "source": []
  }
 ],
 "metadata": {
  "kernelspec": {
   "display_name": "Python 3 (ipykernel)",
   "language": "python",
   "name": "python3"
  },
  "language_info": {
   "codemirror_mode": {
    "name": "ipython",
    "version": 3
   },
   "file_extension": ".py",
   "mimetype": "text/x-python",
   "name": "python",
   "nbconvert_exporter": "python",
   "pygments_lexer": "ipython3",
   "version": "3.12.7"
  }
 },
 "nbformat": 4,
 "nbformat_minor": 5
}
