{
  "nbformat": 4,
  "nbformat_minor": 0,
  "metadata": {
    "colab": {
      "provenance": []
    },
    "kernelspec": {
      "name": "python3",
      "display_name": "Python 3"
    },
    "language_info": {
      "name": "python"
    }
  },
  "cells": [
    {
      "cell_type": "code",
      "execution_count": 1,
      "metadata": {
        "colab": {
          "base_uri": "https://localhost:8080/"
        },
        "id": "mhyqibP2EjAo",
        "outputId": "49d3e379-6b09-41af-b042-173814142883"
      },
      "outputs": [
        {
          "output_type": "stream",
          "name": "stdout",
          "text": [
            "Collecting youtube-transcript-api\n",
            "  Downloading youtube_transcript_api-1.0.1-py3-none-any.whl.metadata (22 kB)\n",
            "Collecting pytube\n",
            "  Downloading pytube-15.0.0-py3-none-any.whl.metadata (5.0 kB)\n",
            "Requirement already satisfied: defusedxml<0.8.0,>=0.7.1 in /usr/local/lib/python3.11/dist-packages (from youtube-transcript-api) (0.7.1)\n",
            "Requirement already satisfied: requests in /usr/local/lib/python3.11/dist-packages (from youtube-transcript-api) (2.32.3)\n",
            "Requirement already satisfied: charset-normalizer<4,>=2 in /usr/local/lib/python3.11/dist-packages (from requests->youtube-transcript-api) (3.4.1)\n",
            "Requirement already satisfied: idna<4,>=2.5 in /usr/local/lib/python3.11/dist-packages (from requests->youtube-transcript-api) (3.10)\n",
            "Requirement already satisfied: urllib3<3,>=1.21.1 in /usr/local/lib/python3.11/dist-packages (from requests->youtube-transcript-api) (2.3.0)\n",
            "Requirement already satisfied: certifi>=2017.4.17 in /usr/local/lib/python3.11/dist-packages (from requests->youtube-transcript-api) (2025.1.31)\n",
            "Downloading youtube_transcript_api-1.0.1-py3-none-any.whl (1.9 MB)\n",
            "\u001b[2K   \u001b[90m━━━━━━━━━━━━━━━━━━━━━━━━━━━━━━━━━━━━━━━━\u001b[0m \u001b[32m1.9/1.9 MB\u001b[0m \u001b[31m14.1 MB/s\u001b[0m eta \u001b[36m0:00:00\u001b[0m\n",
            "\u001b[?25hDownloading pytube-15.0.0-py3-none-any.whl (57 kB)\n",
            "\u001b[2K   \u001b[90m━━━━━━━━━━━━━━━━━━━━━━━━━━━━━━━━━━━━━━━━\u001b[0m \u001b[32m57.6/57.6 kB\u001b[0m \u001b[31m2.4 MB/s\u001b[0m eta \u001b[36m0:00:00\u001b[0m\n",
            "\u001b[?25hInstalling collected packages: pytube, youtube-transcript-api\n",
            "Successfully installed pytube-15.0.0 youtube-transcript-api-1.0.1\n"
          ]
        }
      ],
      "source": [
        "pip install youtube-transcript-api pytube"
      ]
    },
    {
      "cell_type": "code",
      "source": [
        "import google.generativeai as genai\n",
        "from google.colab import userdata\n",
        "\n",
        "GOOGLE_API_KEY = userdata.get('GOOGLE_API_KEY')\n",
        "genai.configure(api_key=GOOGLE_API_KEY)"
      ],
      "metadata": {
        "id": "JaGyiJPIFr-q"
      },
      "execution_count": 4,
      "outputs": []
    },
    {
      "cell_type": "code",
      "source": [
        "from youtube_transcript_api import YouTubeTranscriptApi\n",
        "\n",
        "def get_youtube_transcript(video_url):\n",
        "\n",
        "    \"\"\"Fetches the transcript of a YouTube video.\"\"\"\n",
        "\n",
        "    video_id = video_url.split(\"v=\")[1].split(\"&\")[0]  # Extract video ID\n",
        "\n",
        "    transcript = YouTubeTranscriptApi.get_transcript(video_id)\n",
        "\n",
        "    full_text = \" \".join([t[\"text\"] for t in transcript])\n",
        "\n",
        "    return full_text\n",
        "\n",
        "# Example Usage\n",
        "\n",
        "video_url = \"https://www.youtube.com/watch?v=unYDoA8QGH0&list=PLWEpztHwA4ZT2QlHC74oIz4MsawcvE-QX\"\n",
        "\n",
        "video_transcript = get_youtube_transcript(video_url)\n",
        "\n",
        "print(\"Transcript:\\n\", video_transcript[:500])  # Show first 500 characters"
      ],
      "metadata": {
        "colab": {
          "base_uri": "https://localhost:8080/"
        },
        "id": "nsFjiVTTEpaK",
        "outputId": "a9c6ab5d-5cb5-4abc-ef8f-295423fa53f1"
      },
      "execution_count": 2,
      "outputs": [
        {
          "output_type": "stream",
          "name": "stdout",
          "text": [
            "Transcript:\n",
            " hi guys today I'm going to introduce you what is machine learning uh these are my presentation content what is machine learning what are the different applications of machine learning different types of machine learning and how to build a machine learning system or model then various kinds of algorithms and later on in this series we are going to take a Hands-On you know case studies or doing programming for various kinds of up algorithms so what is machine learning so machine learning is nothin\n"
          ]
        }
      ]
    },
    {
      "cell_type": "code",
      "source": [
        "def summarize_video(text):\n",
        "\n",
        "    \"\"\"Summarizes the YouTube video transcript using Gemini AI.\"\"\"\n",
        "\n",
        "    model = genai.GenerativeModel(\"gemini-1.5-flash\")\n",
        "\n",
        "    prompt = f\"Summarize the following YouTube video transcript:\\n\\n{text}\"\n",
        "\n",
        "    response = model.generate_content(prompt)\n",
        "\n",
        "    return response.text\n",
        "\n",
        "summary = summarize_video(video_transcript)\n",
        "\n",
        "print(\"Summary:\\n\", summary)"
      ],
      "metadata": {
        "colab": {
          "base_uri": "https://localhost:8080/",
          "height": 158
        },
        "id": "VLkuPQ0_E2zA",
        "outputId": "5f844caf-2478-4cf8-cb63-b3718531ec93"
      },
      "execution_count": 5,
      "outputs": [
        {
          "output_type": "stream",
          "name": "stdout",
          "text": [
            "Summary:\n",
            " This YouTube video lecture provides an introduction to machine learning.  It begins by defining machine learning as learning from data, a subfield of artificial intelligence enabling smarter applications.  The instructor explains that machine learning uses training data (past experiences) to build models that predict future events.  Several applications are highlighted, including speech recognition, web search engines, recommendation systems, computer vision, information retrieval, and fraud detection.\n",
            "\n",
            "The video then categorizes machine learning into three types: supervised (using labeled data to predict known outcomes, further divided into classification and regression), unsupervised (exploring unlabeled data to find structure), and reinforcement learning (an agent learns through trial-and-error, receiving rewards or penalties).  Key concepts like classification (predicting categorical labels) and regression (predicting continuous values) are explained, along with the importance of understanding relationships between variables.  Unsupervised learning techniques like clustering and dimensionality reduction are also briefly discussed.\n",
            "\n",
            "The lecture continues by outlining the process of building a machine learning model, which involves data pre-processing (cleaning, scaling, encoding, feature selection), algorithm selection (choosing appropriate algorithms for the problem, such as decision trees or random forests), model building, and evaluation (assessing accuracy).  The instructor emphasizes the importance of building multiple models and comparing their performance. Finally, the video concludes by mentioning that future lessons will cover practical implementation and various algorithms in more detail.\n",
            "\n"
          ]
        }
      ]
    },
    {
      "cell_type": "code",
      "source": [
        "def extract_video_insights(text):\n",
        "\n",
        "    \"\"\"Extracts key insights from the YouTube video transcript.\"\"\"\n",
        "\n",
        "    model = genai.GenerativeModel(\"gemini-1.5-flash\")\n",
        "\n",
        "    prompt = f\"Extract the key takeaways and insights from this YouTube video:\\n\\n{text}\"\n",
        "\n",
        "    response = model.generate_content(prompt)\n",
        "\n",
        "    return response.text\n",
        "\n",
        "insights = extract_video_insights(video_transcript)\n",
        "\n",
        "print(\"Key Insights:\\n\", insights)"
      ],
      "metadata": {
        "colab": {
          "base_uri": "https://localhost:8080/",
          "height": 939
        },
        "id": "1H8Yj_KCGXib",
        "outputId": "24503799-796e-4a23-8a98-bd65d4d0bfef"
      },
      "execution_count": 6,
      "outputs": [
        {
          "output_type": "stream",
          "name": "stdout",
          "text": [
            "Key Insights:\n",
            " This YouTube video provides an introduction to machine learning. Here are the key takeaways and insights:\n",
            "\n",
            "**What is Machine Learning?**\n",
            "\n",
            "* **Core Concept:** Machine learning is about enabling computers to learn from data without explicit programming.  It's a subfield of artificial intelligence.  The process involves using algorithms to build models that make predictions based on past data (training data).\n",
            "* **Learning from Data:**  The \"experience\" (data) is used to train a model.  The model's performance is measured, and if it improves with more data, it's considered to have learned.\n",
            "* **Arthur Samuel's Definition:** A concise definition is provided:  \"a field of study that gives computers the ability to learn without being explicitly programmed.\"\n",
            "* **Key Components:** Training data, algorithm selection, model building, prediction.\n",
            "\n",
            "**Applications of Machine Learning:**\n",
            "\n",
            "The video highlights several diverse applications:\n",
            "\n",
            "* **Speech Recognition:**  Powering virtual assistants like Siri and Google Assistant.\n",
            "* **Web Search:**  Improving search engine relevance using algorithms like Naive Bayes.\n",
            "* **Recommendation Systems:**  Suggesting products or content based on user behavior.\n",
            "* **Computer Vision:**  Enabling computers to \"see\" and understand images and videos, identifying objects within them.\n",
            "* **Information Retrieval:**  Optimizing search results to deliver relevant information from massive datasets.\n",
            "* **Fraud Detection:** Identifying malicious activities online.\n",
            "\n",
            "**Types of Machine Learning:**\n",
            "\n",
            "The video outlines the three main types:\n",
            "\n",
            "* **Supervised Learning:**  The training data includes labeled outcomes (the correct answer is provided).  This is further divided into:\n",
            "    * **Classification:** Predicting categorical outcomes (e.g., spam/not spam).\n",
            "    * **Regression:** Predicting continuous outcomes (e.g., house prices).\n",
            "* **Unsupervised Learning:** The training data is unlabeled, focusing on discovering patterns and structure within the data.  Examples include clustering and dimensionality reduction.\n",
            "* **Reinforcement Learning:**  An agent learns by interacting with an environment, receiving rewards or penalties based on its actions.  This is often used in game playing and robotics.\n",
            "\n",
            "**Building a Machine Learning Model (Workflow):**\n",
            "\n",
            "The process typically involves these steps:\n",
            "\n",
            "1. **Data Preprocessing:** Cleaning, scaling, encoding, and selecting relevant features from the raw data.\n",
            "2. **Algorithm Selection:** Choosing the appropriate algorithm for the task (classification, regression, etc.).\n",
            "3. **Model Training:** Building the model using the training data and chosen algorithm.\n",
            "4. **Model Evaluation:** Assessing the model's accuracy and performance using validation data.  Multiple model comparisons are encouraged.\n",
            "\n",
            "\n",
            "**Essential Terminology:**\n",
            "\n",
            "The video defines crucial terms like:\n",
            "\n",
            "* **Features/Attributes:** Columns in the dataset representing characteristics.\n",
            "* **Target Variable/Response Variable:** The column containing the outcome to be predicted.\n",
            "* **Samples/Instances/Observations:** Rows in the dataset representing individual data points.\n",
            "\n",
            "\n",
            "**Next Steps:**  The presenter encourages viewers to practice implementing the algorithms and building models, promising future videos with hands-on case studies.\n",
            "\n"
          ]
        }
      ]
    },
    {
      "cell_type": "code",
      "source": [],
      "metadata": {
        "id": "3WyV4NAeHHVv"
      },
      "execution_count": null,
      "outputs": []
    }
  ]
}